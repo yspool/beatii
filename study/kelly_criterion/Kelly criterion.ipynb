{
 "cells": [
  {
   "cell_type": "code",
   "execution_count": 75,
   "metadata": {
    "collapsed": true
   },
   "outputs": [],
   "source": [
    "# https://ko.wikipedia.org/wiki/%EC%BC%88%EB%A6%AC_%EA%B3%B5%EC%8B%9D\n",
    "# https://www.investopedia.com/articles/trading/04/091504.asp"
   ]
  },
  {
   "cell_type": "code",
   "execution_count": 123,
   "metadata": {
    "collapsed": true
   },
   "outputs": [],
   "source": [
    "def how_much_to_bet(p, b, a):\n",
    "    '''\n",
    "    p : the probability of winning\n",
    "    b : the net odds received on the wager (\"b to 1\"); that is, you could win $b (on top of getting back your $1 wagered) for a $1 bet\n",
    "    a : decrease if you fail\n",
    "    '''\n",
    "#     return (p * (b + 1) - 1) / b\n",
    "    return p / a - (1 - p) / b\n",
    "\n",
    "def kelly_criterion(W, R):\n",
    "    '''\n",
    "    \"W\", the winning probability. \n",
    "        To do this, divide the number of trades that returned a positive amount by your total number of trades (positive and negative). This number is better as it gets closer to one. Any number above 0.50 is good.\n",
    "    \"R,\" the win/loss ratio. \n",
    "        Do this by dividing the average gain of the positive trades by the average loss of the negative trades. You should have a number greater than 1 if your average gains are greater than your average losses. A result less than one is manageable as long as the number of losing trades remains small.\n",
    "    '''\n",
    "    return W - ((1-W) / R)"
   ]
  },
  {
   "cell_type": "code",
   "execution_count": 132,
   "metadata": {
    "collapsed": false
   },
   "outputs": [
    {
     "name": "stdout",
     "output_type": "stream",
     "text": [
      "0.215384615385\n",
      "0.175\n"
     ]
    }
   ],
   "source": [
    "print how_much_to_bet(0.6, 1.04, 1)\n",
    "print kelly_criterion(0.55, 1.2)"
   ]
  },
  {
   "cell_type": "code",
   "execution_count": 92,
   "metadata": {
    "collapsed": false
   },
   "outputs": [],
   "source": [
    "def do_coin(p, b, a, bankroll):\n",
    "    import random\n",
    "    win = random.random() < p\n",
    "#     import math\n",
    "#     bet = math.floor(how_much_to_bet(b, p) * bankroll)\n",
    "    bet = how_much_to_bet(p, b, a) * bankroll\n",
    "    if win:\n",
    "        return bankroll + bet * b\n",
    "    else:\n",
    "        return bankroll - bet * a"
   ]
  },
  {
   "cell_type": "code",
   "execution_count": 116,
   "metadata": {
    "collapsed": false
   },
   "outputs": [
    {
     "name": "stdout",
     "output_type": "stream",
     "text": [
      "190 262.469589549\n",
      "232 259.757594823\n",
      "321 274.289923433\n",
      "790 261.149986155\n",
      "208 1.94174200757\n",
      "148 265.20989881\n",
      "512 259.147323676\n",
      "874 255.781147672\n",
      "257 253.269722601\n",
      "453 257.978328093\n",
      "173 258.585846348\n",
      "624 269.505822748\n",
      "152 259.932221824\n",
      "546 266.990133149\n",
      "678 251.112644989\n",
      "215 255.913980808\n",
      "598 251.281460258\n",
      "167 266.501198443\n",
      "106 267.978818223\n",
      "967 264.716199918\n",
      "1177 251.319872724\n",
      "297 253.184632798\n",
      "285 268.921902346\n",
      "83 272.095050465\n",
      "636 253.734382265\n",
      "154 257.332899606\n",
      "264 270.322094427\n",
      "158 252.211974904\n",
      "445 268.56069087\n",
      "89 264.013555371\n",
      "693 257.458734297\n",
      "184 270.503823614\n",
      "142 273.328014159\n",
      "108 265.299030041\n",
      "224 270.412943754\n",
      "125 269.283599648\n",
      "173 258.585846348\n",
      "761 273.277954073\n",
      "735 254.798514761\n",
      "291 260.934652925\n",
      "135 256.086023866\n",
      "491 260.496622589\n",
      "402 1.99781965169\n",
      "603 270.909055119\n",
      "133 258.67275138\n",
      "411 260.671746415\n",
      "329 263.481806033\n",
      "139 250.989911992\n",
      "230 262.381408912\n",
      "417 252.929534875\n",
      "424 269.959002236\n",
      "173 258.585846348\n",
      "83 272.095050465\n",
      "291 260.934652925\n",
      "194 257.246444717\n",
      "790 261.149986155\n",
      "371 260.759352473\n",
      "222 273.144387631\n",
      "179 250.905588126\n",
      "1152 257.757796706\n",
      "325 268.831553956\n",
      "83 272.095050465\n",
      "1150 260.361410814\n",
      "281 274.382106261\n",
      "123 272.003636008\n",
      "251 261.022347339\n",
      "184 270.503823614\n",
      "272 259.670325321\n",
      "289 263.570356489\n",
      "270 262.2932579\n",
      "230 262.381408912\n",
      "318 251.873207927\n",
      "361 274.197771575\n",
      "470 261.852946877\n",
      "398 251.703995112\n",
      "112 260.019579343\n",
      "1323 269.275437144\n",
      "139 250.989911992\n",
      "112 260.019579343\n",
      "358 251.788587305\n",
      "213 258.498970513\n",
      "335 255.656132912\n",
      "862 271.679809536\n",
      "394 256.814605767\n",
      "234 257.160018875\n",
      "226 267.708814317\n",
      "224 270.412943754\n",
      "1066 265.826388881\n",
      "1327 263.916855945\n",
      "146 267.888786677\n",
      "624 269.505822748\n",
      "247 266.322158289\n",
      "483 271.182286702\n",
      "554 256.469656613\n",
      "165 269.193129741\n",
      "415 255.484378662\n",
      "2034 253.300760739\n",
      "316 254.417381745\n",
      "598 251.281460258\n",
      "78 252.381529218\n"
     ]
    }
   ],
   "source": [
    "def start():\n",
    "    bankroll = 25\n",
    "    b = 1\n",
    "    a = 1\n",
    "    p = 0.55\n",
    "    for x in range(0, 10000):\n",
    "        bankroll = do_coin(p, b, a, bankroll)\n",
    "        if bankroll > 250:\n",
    "            break\n",
    "        if bankroll < 2:\n",
    "            break\n",
    "    print x, bankroll\n",
    "    return\n",
    "\n",
    "for x in range(0, 100):\n",
    "    start()"
   ]
  },
  {
   "cell_type": "code",
   "execution_count": 120,
   "metadata": {
    "collapsed": false
   },
   "outputs": [
    {
     "name": "stdout",
     "output_type": "stream",
     "text": [
      "x b p\n",
      "p*log(b*x + 1) + (-p + 1)*log(-x + 1)\n"
     ]
    },
    {
     "data": {
      "text/plain": [
       "[(b*p + p - 1)/b]"
      ]
     },
     "execution_count": 120,
     "metadata": {},
     "output_type": "execute_result"
    }
   ],
   "source": [
    "from sympy import *\n",
    "x,b,p = symbols('x b p')\n",
    "print x, b, p\n",
    "y = p * log(1+b*x) + (1-p)*log(1-x)\n",
    "print y\n",
    "solve(diff(y,x),x)"
   ]
  },
  {
   "cell_type": "code",
   "execution_count": 121,
   "metadata": {
    "collapsed": false
   },
   "outputs": [
    {
     "data": {
      "text/plain": [
       "b*p/(b*x + 1) - (-p + 1)/(-x + 1)"
      ]
     },
     "execution_count": 121,
     "metadata": {},
     "output_type": "execute_result"
    }
   ],
   "source": [
    "diff(y,x)"
   ]
  },
  {
   "cell_type": "code",
   "execution_count": null,
   "metadata": {
    "collapsed": true
   },
   "outputs": [],
   "source": []
  }
 ],
 "metadata": {
  "kernelspec": {
   "display_name": "Python [algotrading]",
   "language": "python",
   "name": "Python [algotrading]"
  },
  "language_info": {
   "codemirror_mode": {
    "name": "ipython",
    "version": 2
   },
   "file_extension": ".py",
   "mimetype": "text/x-python",
   "name": "python",
   "nbconvert_exporter": "python",
   "pygments_lexer": "ipython2",
   "version": "2.7.12"
  }
 },
 "nbformat": 4,
 "nbformat_minor": 0
}
